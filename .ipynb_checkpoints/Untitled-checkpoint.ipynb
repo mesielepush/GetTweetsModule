{
 "cells": [
  {
   "cell_type": "code",
   "execution_count": 1,
   "metadata": {},
   "outputs": [],
   "source": [
    "import os\n",
    "import datetime\n",
    "import joblib\n",
    "from time import sleep\n",
    "import numpy as np\n",
    "from IPython.display import clear_output\n",
    "from selenium import webdriver\n",
    "from selenium.webdriver.common.keys import Keys\n",
    "from selenium.webdriver.chrome.options import Options\n",
    "from selenium.common.exceptions import NoSuchElementException, StaleElementReferenceException"
   ]
  },
  {
   "cell_type": "code",
   "execution_count": 2,
   "metadata": {},
   "outputs": [],
   "source": [
    "account = 'JohnMAckerman'\n",
    "def format_day(date):\n",
    "    day = '0' + str(date.day) if len(str(date.day)) == 1 else str(date.day)\n",
    "    month = '0' + str(date.month) if len(str(date.month)) == 1 else str(date.month)\n",
    "    year = str(date.year)\n",
    "    return '-'.join([year, month, day])\n",
    "\n",
    "def form_url(since, until):\n",
    "        return f'https://twitter.com/search?q=(from%3A{account})%20until%3A{until}%20since%3A{since}&src=typed_query'\n",
    "\n",
    "def increment_day(date, i):\n",
    "    return date + datetime.timedelta(days=i)"
   ]
  },
  {
   "cell_type": "code",
   "execution_count": 3,
   "metadata": {},
   "outputs": [],
   "source": [
    "year, month, day = 2019, 9, 1\n",
    "year_end, month_end, day_end = 2020, 1, 1\n",
    "start = datetime.datetime(year, month, day)\n",
    "end   = datetime.datetime(year_end, month_end, day_end)\n",
    "days = (end - start).days + 1\n",
    "days\n",
    "\n",
    "options = Options()\n",
    "options.add_argument('--disable-gpu')\n",
    "options.headless = True\n",
    "driver = webdriver.Chrome(options=options,executable_path=r'meta\\chromedriver.exe')"
   ]
  },
  {
   "cell_type": "code",
   "execution_count": null,
   "metadata": {},
   "outputs": [],
   "source": [
    "saves = [x for x in range(30000) if x%100 == 0][1:]\n",
    "saves"
   ]
  },
  {
   "cell_type": "code",
   "execution_count": 10,
   "metadata": {},
   "outputs": [
    {
     "ename": "TypeError",
     "evalue": "function missing required argument 'month' (pos 2)",
     "output_type": "error",
     "traceback": [
      "\u001b[1;31m---------------------------------------------------------------------------\u001b[0m",
      "\u001b[1;31mTypeError\u001b[0m                                 Traceback (most recent call last)",
      "\u001b[1;32m<ipython-input-10-2dc6cfe84955>\u001b[0m in \u001b[0;36m<module>\u001b[1;34m\u001b[0m\n\u001b[0;32m      1\u001b[0m \u001b[0ma\u001b[0m  \u001b[1;33m=\u001b[0m \u001b[1;34m'2019-10-07'\u001b[0m\u001b[1;33m\u001b[0m\u001b[1;33m\u001b[0m\u001b[0m\n\u001b[1;32m----> 2\u001b[1;33m \u001b[0mb\u001b[0m \u001b[1;33m=\u001b[0m \u001b[0mdatetime\u001b[0m\u001b[1;33m.\u001b[0m\u001b[0mdatetime\u001b[0m\u001b[1;33m(\u001b[0m\u001b[0mint\u001b[0m\u001b[1;33m(\u001b[0m\u001b[0ma\u001b[0m\u001b[1;33m[\u001b[0m\u001b[1;33m:\u001b[0m\u001b[1;36m4\u001b[0m\u001b[1;33m]\u001b[0m\u001b[1;33m)\u001b[0m\u001b[1;33m)\u001b[0m\u001b[1;33m\u001b[0m\u001b[1;33m\u001b[0m\u001b[0m\n\u001b[0m\u001b[0;32m      3\u001b[0m \u001b[0mb\u001b[0m\u001b[1;33m\u001b[0m\u001b[1;33m\u001b[0m\u001b[0m\n",
      "\u001b[1;31mTypeError\u001b[0m: function missing required argument 'month' (pos 2)"
     ]
    }
   ],
   "source": [
    "a  = '2019-10-07'\n",
    "b = datetime.datetime(int(a[:4]), int(a[:4]), int())\n",
    "b"
   ]
  },
  {
   "cell_type": "code",
   "execution_count": 5,
   "metadata": {
    "scrolled": false
   },
   "outputs": [
    {
     "ename": "TypeError",
     "evalue": "an integer is required (got type str)",
     "output_type": "error",
     "traceback": [
      "\u001b[1;31m---------------------------------------------------------------------------\u001b[0m",
      "\u001b[1;31mTypeError\u001b[0m                                 Traceback (most recent call last)",
      "\u001b[1;32m<ipython-input-5-6c440562b6f4>\u001b[0m in \u001b[0;36m<module>\u001b[1;34m\u001b[0m\n\u001b[0;32m     20\u001b[0m         \u001b[0mids\u001b[0m \u001b[1;33m=\u001b[0m \u001b[0mnp\u001b[0m\u001b[1;33m.\u001b[0m\u001b[0mload\u001b[0m\u001b[1;33m(\u001b[0m\u001b[1;34mf'database/{account}/{account_data[0]}'\u001b[0m\u001b[1;33m)\u001b[0m\u001b[1;33m.\u001b[0m\u001b[0mtolist\u001b[0m\u001b[1;33m(\u001b[0m\u001b[1;33m)\u001b[0m\u001b[1;33m\u001b[0m\u001b[1;33m\u001b[0m\u001b[0m\n\u001b[0;32m     21\u001b[0m         \u001b[0md1\u001b[0m \u001b[1;33m=\u001b[0m \u001b[0mstart\u001b[0m\u001b[1;33m\u001b[0m\u001b[1;33m\u001b[0m\u001b[0m\n\u001b[1;32m---> 22\u001b[1;33m         \u001b[0md2\u001b[0m \u001b[1;33m=\u001b[0m \u001b[0mformat_day\u001b[0m\u001b[1;33m(\u001b[0m\u001b[0mincrement_day\u001b[0m\u001b[1;33m(\u001b[0m\u001b[0mdatetime\u001b[0m\u001b[1;33m.\u001b[0m\u001b[0mdatetime\u001b[0m\u001b[1;33m(\u001b[0m\u001b[0mstart\u001b[0m\u001b[1;33m)\u001b[0m\u001b[1;33m,\u001b[0m \u001b[1;36m1\u001b[0m\u001b[1;33m)\u001b[0m\u001b[1;33m)\u001b[0m\u001b[1;33m\u001b[0m\u001b[1;33m\u001b[0m\u001b[0m\n\u001b[0m\u001b[0;32m     23\u001b[0m     \u001b[1;32melse\u001b[0m\u001b[1;33m:\u001b[0m\u001b[1;33m\u001b[0m\u001b[1;33m\u001b[0m\u001b[0m\n\u001b[0;32m     24\u001b[0m         \u001b[0md1\u001b[0m \u001b[1;33m=\u001b[0m \u001b[0mformat_day\u001b[0m\u001b[1;33m(\u001b[0m\u001b[0mincrement_day\u001b[0m\u001b[1;33m(\u001b[0m\u001b[0mstart\u001b[0m\u001b[1;33m,\u001b[0m \u001b[1;36m0\u001b[0m\u001b[1;33m)\u001b[0m\u001b[1;33m)\u001b[0m\u001b[1;33m\u001b[0m\u001b[1;33m\u001b[0m\u001b[0m\n",
      "\u001b[1;31mTypeError\u001b[0m: an integer is required (got type str)"
     ]
    }
   ],
   "source": [
    "ids = []\n",
    "delay = 0.5\n",
    "\n",
    "saves = [x for x in range(30000) if x%100 == 0][1:]\n",
    "save_turn = 0\n",
    "\n",
    "if not os.path.exists(f'database/{account}'):\n",
    "    os.mkdir(f'database/{account}')\n",
    "\n",
    "account_data = os.listdir(f'database/{account}')\n",
    "\n",
    "if os.path.exists(f'database/{account}/{format_day(increment_day(end, 0))}_{account}.npy'):\n",
    "    print('Account ids are already in the database')\n",
    "\n",
    "\n",
    "    \n",
    "for day in range(days):\n",
    "    if len(account_data) != 0:\n",
    "        start = account_data[0][:10]\n",
    "        ids = np.load(f'database/{account}/{account_data[0]}').tolist()\n",
    "        d1 = start\n",
    "        d2 = format_day(increment_day(datetime.datetime(start), 1))\n",
    "    else:\n",
    "        d1 = format_day(increment_day(start, 0))\n",
    "        d2 = format_day(increment_day(start, 1))\n",
    "    url = form_url(d1, d2)\n",
    "    driver.get(url)\n",
    "    sleep(delay)\n",
    "    found_tweets = driver.find_elements_by_xpath(f'//a[contains(@href,\"/{account}/\")]')\n",
    "    \n",
    "    increment = 0\n",
    "    \n",
    "    while len(found_tweets) >= increment:\n",
    "        \n",
    "        driver.execute_script('window.scrollTo(0, document.body.scrollHeight);')\n",
    "        sleep(delay)\n",
    "        found_tweets = driver.find_elements_by_xpath(f'//a[contains(@href,\"/{account}/\")]')\n",
    "        for tweet in found_tweets:\n",
    "            try:\n",
    "                if 'photo' not in tweet.get_attribute('href').split('/'):\n",
    "\n",
    "                    ids.append(tweet.get_attribute('href').split('/')[-1])\n",
    "            except StaleElementReferenceException as e:\n",
    "                print('lost element reference', tweet)\n",
    "\n",
    "        print('{} tweets found, {} total'.format(len(found_tweets), len(ids)))\n",
    "        increment += 10\n",
    "\n",
    "    if len(ids) > saves[save_turn]:\n",
    "        print('CIEN!!!!!!!!!!!!!!!')\n",
    "        numpy_ids = np.array(ids)\n",
    "        file_name = d2+'_'+account\n",
    "        np.save(os.path.join(f'database/{account}',file_name), numpy_ids, allow_pickle=True, fix_imports=True)\n",
    "        save_turn +=1\n",
    "        \n",
    "    print(len(set(ids)))\n",
    "    start = increment_day(start, 1)\n",
    "    \n",
    "numpy_ids = np.array(ids)\n",
    "file_name = format_day(increment_day(end, 0))+'_'+account+'.np'\n",
    "\n",
    "np.save(file_name, numpy_ids, allow_pickle=True, fix_imports=True)"
   ]
  },
  {
   "cell_type": "code",
   "execution_count": null,
   "metadata": {},
   "outputs": [],
   "source": [
    "len(set(ids))"
   ]
  },
  {
   "cell_type": "code",
   "execution_count": null,
   "metadata": {},
   "outputs": [],
   "source": [
    "len(ids)"
   ]
  },
  {
   "cell_type": "code",
   "execution_count": null,
   "metadata": {},
   "outputs": [],
   "source": []
  },
  {
   "cell_type": "code",
   "execution_count": null,
   "metadata": {},
   "outputs": [],
   "source": []
  },
  {
   "cell_type": "code",
   "execution_count": null,
   "metadata": {},
   "outputs": [],
   "source": []
  },
  {
   "cell_type": "code",
   "execution_count": null,
   "metadata": {},
   "outputs": [],
   "source": []
  },
  {
   "cell_type": "code",
   "execution_count": null,
   "metadata": {},
   "outputs": [],
   "source": []
  },
  {
   "cell_type": "code",
   "execution_count": null,
   "metadata": {},
   "outputs": [],
   "source": [
    "twitter_ids_filename = 'all_ids.json'\n",
    "id_selector = '.time a.tweet-timestamp'\n",
    "tweet_selector = 'li.js-stream-item:not(.AdaptiveStreamUserGallery)'\n",
    "ids = []\n",
    "\n",
    "for day in range(5):\n",
    "    d1 = format_day(increment_day(start, 0))\n",
    "    d2 = format_day(increment_day(start, 1))\n",
    "    url = form_url(d1, d2)\n",
    "    print(url)\n",
    "    print(d1)\n",
    "    driver.get(url)\n",
    "    sleep(delay)\n",
    "\n",
    "try:\n",
    "    found_tweets = driver.find_elements_by_css_selector(tweet_selector)\n",
    "    increment = 10\n",
    "\n",
    "    while len(found_tweets) >= increment:\n",
    "        print('scrolling down to load more tweets')\n",
    "        driver.execute_script('window.scrollTo(0, document.body.scrollHeight);')\n",
    "        sleep(delay)\n",
    "        found_tweets = driver.find_elements_by_css_selector(tweet_selector)\n",
    "        increment += 10\n",
    "\n",
    "    print('{} tweets found, {} total'.format(len(found_tweets), len(ids)))\n",
    "\n",
    "    for tweet in found_tweets:\n",
    "        try:\n",
    "            id = tweet.find_element_by_css_selector(id_selector).get_attribute('href').split('/')[-1]\n",
    "            ids.append(id)\n",
    "        except StaleElementReferenceException as e:\n",
    "            print('lost element reference', tweet)\n",
    "\n",
    "except NoSuchElementException:\n",
    "    print('no tweets on this day')"
   ]
  },
  {
   "cell_type": "code",
   "execution_count": null,
   "metadata": {},
   "outputs": [],
   "source": [
    "try:\n",
    "    found_tweets = driver.find_elements_by_css_selector(tweet_selector)\n",
    "    increment = 10\n",
    "\n",
    "    while len(found_tweets) >= increment:\n",
    "        print('scrolling down to load more tweets')\n",
    "        driver.execute_script('window.scrollTo(0, document.body.scrollHeight);')\n",
    "        \n",
    "        found_tweets = driver.find_elements_by_css_selector(tweet_selector)\n",
    "        increment += 10\n",
    "\n",
    "    print('{} tweets found, {} total'.format(len(found_tweets), len(ids)))\n",
    "\n",
    "    for tweet in found_tweets:\n",
    "        try:\n",
    "            id = tweet.find_element_by_css_selector(id_selector).get_attribute('href').split('/')[-1]\n",
    "            ids.append(id)\n",
    "            print('############################## ',id)\n",
    "        except StaleElementReferenceException as e:\n",
    "            print('lost element reference', tweet)\n",
    "\n",
    "except NoSuchElementException:\n",
    "    print('no tweets on this day')\n",
    "os.system('cls') \n"
   ]
  },
  {
   "cell_type": "code",
   "execution_count": null,
   "metadata": {},
   "outputs": [],
   "source": [
    "ids"
   ]
  },
  {
   "cell_type": "code",
   "execution_count": null,
   "metadata": {},
   "outputs": [],
   "source": [
    "\n",
    "oldest_tweet = api.get_status(start).created_at\n",
    "newest_tweet = api.get_status(end).created_at"
   ]
  },
  {
   "cell_type": "code",
   "execution_count": null,
   "metadata": {},
   "outputs": [],
   "source": []
  }
 ],
 "metadata": {
  "kernelspec": {
   "display_name": "Python 3",
   "language": "python",
   "name": "python3"
  },
  "language_info": {
   "codemirror_mode": {
    "name": "ipython",
    "version": 3
   },
   "file_extension": ".py",
   "mimetype": "text/x-python",
   "name": "python",
   "nbconvert_exporter": "python",
   "pygments_lexer": "ipython3",
   "version": "3.7.5"
  }
 },
 "nbformat": 4,
 "nbformat_minor": 4
}
