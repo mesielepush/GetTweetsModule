{
 "cells": [
  {
   "cell_type": "code",
   "execution_count": 1,
   "metadata": {},
   "outputs": [],
   "source": [
    "import os\n",
    "import datetime\n",
    "import joblib\n",
    "import pandas as pd\n",
    "import GetOldTweets3 as got\n",
    "import time"
   ]
  },
  {
   "cell_type": "code",
   "execution_count": 7,
   "metadata": {},
   "outputs": [],
   "source": [
    "def getTuits(user, since, until):\n",
    "    \n",
    "    if not os.path.exists(f'database/{user}'):\n",
    "        os.makedirs(f'database/{user}')\n",
    "    \n",
    "    tweetCriteria = got.manager.TweetCriteria().setUsername(user)\\\n",
    "                                       .setSince(since)\\\n",
    "                                       .setUntil(until)\n",
    "    tweets = got.manager.TweetManager.getTweets(tweetCriteria)\n",
    "\n",
    "    user_tweets = [[tweet.date, tweet.text] for tweet in tweets]\n",
    "    tweets_df = pd.DataFrame(user_tweets)\n",
    "    tweets_df.columns = ['date', 'tweet']\n",
    "    \n",
    "    joblib.dump(tweets_df,f'database/{user}/{user}_{until}.pkl')"
   ]
  },
  {
   "cell_type": "code",
   "execution_count": 120,
   "metadata": {},
   "outputs": [
    {
     "name": "stderr",
     "output_type": "stream",
     "text": [
      "ERROR:root:Internal Python error in the inspect module.\n",
      "Below is the traceback from this internal error.\n",
      "\n"
     ]
    },
    {
     "name": "stdout",
     "output_type": "stream",
     "text": [
      "An error occured during an HTTP request: HTTP Error 429: Too Many Requests\n",
      "Try to open in browser: https://twitter.com/search?q=%20from%3Aepigmenioibarra%20since%3A2009-07-01%20until%3A2012-07-01&src=typd\n",
      "Traceback (most recent call last):\n",
      "  File \"C:\\Users\\jupol\\AppData\\Local\\Continuum\\anaconda3\\envs\\tf2\\lib\\site-packages\\GetOldTweets3\\manager\\TweetManager.py\", line 343, in getJsonResponse\n",
      "    response = opener.open(url)\n",
      "  File \"C:\\Users\\jupol\\AppData\\Local\\Continuum\\anaconda3\\envs\\tf2\\lib\\urllib\\request.py\", line 531, in open\n",
      "    response = meth(req, response)\n",
      "  File \"C:\\Users\\jupol\\AppData\\Local\\Continuum\\anaconda3\\envs\\tf2\\lib\\urllib\\request.py\", line 641, in http_response\n",
      "    'http', request, response, code, msg, hdrs)\n",
      "  File \"C:\\Users\\jupol\\AppData\\Local\\Continuum\\anaconda3\\envs\\tf2\\lib\\urllib\\request.py\", line 569, in error\n",
      "    return self._call_chain(*args)\n",
      "  File \"C:\\Users\\jupol\\AppData\\Local\\Continuum\\anaconda3\\envs\\tf2\\lib\\urllib\\request.py\", line 503, in _call_chain\n",
      "    result = func(*args)\n",
      "  File \"C:\\Users\\jupol\\AppData\\Local\\Continuum\\anaconda3\\envs\\tf2\\lib\\urllib\\request.py\", line 649, in http_error_default\n",
      "    raise HTTPError(req.full_url, code, msg, hdrs, fp)\n",
      "urllib.error.HTTPError: HTTP Error 429: Too Many Requests\n",
      "\n",
      "During handling of the above exception, another exception occurred:\n",
      "\n",
      "Traceback (most recent call last):\n",
      "  File \"C:\\Users\\jupol\\AppData\\Local\\Continuum\\anaconda3\\envs\\tf2\\lib\\site-packages\\IPython\\core\\interactiveshell.py\", line 3331, in run_code\n",
      "    exec(code_obj, self.user_global_ns, self.user_ns)\n",
      "  File \"<ipython-input-120-ceeebc0c6326>\", line 3, in <module>\n",
      "    getTuits('epigmenioibarra', \"2009-07-01\", \"2012-07-01\")\n",
      "  File \"<ipython-input-7-67353458cb49>\", line 9, in getTuits\n",
      "    tweets = got.manager.TweetManager.getTweets(tweetCriteria)\n",
      "  File \"C:\\Users\\jupol\\AppData\\Local\\Continuum\\anaconda3\\envs\\tf2\\lib\\site-packages\\GetOldTweets3\\manager\\TweetManager.py\", line 65, in getTweets\n",
      "    json = TweetManager.getJsonResponse(tweetCriteria, refreshCursor, cookieJar, proxy, user_agent, debug=debug)\n",
      "  File \"C:\\Users\\jupol\\AppData\\Local\\Continuum\\anaconda3\\envs\\tf2\\lib\\site-packages\\GetOldTweets3\\manager\\TweetManager.py\", line 348, in getJsonResponse\n",
      "    sys.exit()\n",
      "SystemExit\n",
      "\n",
      "During handling of the above exception, another exception occurred:\n",
      "\n",
      "Traceback (most recent call last):\n",
      "  File \"C:\\Users\\jupol\\AppData\\Local\\Continuum\\anaconda3\\envs\\tf2\\lib\\site-packages\\IPython\\core\\ultratb.py\", line 1148, in get_records\n",
      "    return _fixed_getinnerframes(etb, number_of_lines_of_context, tb_offset)\n",
      "  File \"C:\\Users\\jupol\\AppData\\Local\\Continuum\\anaconda3\\envs\\tf2\\lib\\site-packages\\IPython\\core\\ultratb.py\", line 316, in wrapped\n",
      "    return f(*args, **kwargs)\n",
      "  File \"C:\\Users\\jupol\\AppData\\Local\\Continuum\\anaconda3\\envs\\tf2\\lib\\site-packages\\IPython\\core\\ultratb.py\", line 350, in _fixed_getinnerframes\n",
      "    records = fix_frame_records_filenames(inspect.getinnerframes(etb, context))\n",
      "  File \"C:\\Users\\jupol\\AppData\\Local\\Continuum\\anaconda3\\envs\\tf2\\lib\\inspect.py\", line 1502, in getinnerframes\n",
      "    frameinfo = (tb.tb_frame,) + getframeinfo(tb, context)\n",
      "AttributeError: 'tuple' object has no attribute 'tb_frame'\n"
     ]
    },
    {
     "ename": "SystemExit",
     "evalue": "",
     "output_type": "error",
     "traceback": [
      "An exception has occurred, use %tb to see the full traceback.\n",
      "\u001b[1;31m---------------------------------------------------------------------------\u001b[0m",
      "\nDuring handling of the above exception, another exception occurred:\n",
      "\u001b[1;31mSystemExit\u001b[0m\n"
     ]
    },
    {
     "name": "stderr",
     "output_type": "stream",
     "text": [
      "C:\\Users\\jupol\\AppData\\Local\\Continuum\\anaconda3\\envs\\tf2\\lib\\site-packages\\IPython\\core\\interactiveshell.py:3339: UserWarning: To exit: use 'exit', 'quit', or Ctrl-D.\n",
      "  warn(\"To exit: use 'exit', 'quit', or Ctrl-D.\", stacklevel=1)\n"
     ]
    }
   ],
   "source": [
    "start = time.time()\n",
    "\n",
    "getTuits('epigmenioibarra', \"2009-07-01\", \"2012-07-01\")\n",
    "\n",
    "end = time.time()\n",
    "print(f\"Runtime of the program is {end - start}\")"
   ]
  },
  {
   "cell_type": "code",
   "execution_count": 118,
   "metadata": {},
   "outputs": [],
   "source": [
    "a = joblib.load(r'C:\\Users\\jupol\\Documents\\GitHub\\GetTweetsModule\\database\\Claudiashein\\Claudiashein_2014-05-01.pkl')\n"
   ]
  },
  {
   "cell_type": "code",
   "execution_count": 119,
   "metadata": {},
   "outputs": [
    {
     "data": {
      "text/plain": [
       "11435"
      ]
     },
     "execution_count": 119,
     "metadata": {},
     "output_type": "execute_result"
    }
   ],
   "source": [
    "juarez = [a,b,c,d]\n",
    "sum([len(x) for x in juarez] )"
   ]
  },
  {
   "cell_type": "code",
   "execution_count": 10,
   "metadata": {},
   "outputs": [
    {
     "data": {
      "text/plain": [
       "datetime.datetime(2020, 9, 9, 21, 9, 46, 23532)"
      ]
     },
     "execution_count": 10,
     "metadata": {},
     "output_type": "execute_result"
    }
   ],
   "source": [
    "datetime.fromtimestamp(1599703786.023532)"
   ]
  },
  {
   "cell_type": "code",
   "execution_count": 48,
   "metadata": {},
   "outputs": [
    {
     "data": {
      "text/html": [
       "<div>\n",
       "<style scoped>\n",
       "    .dataframe tbody tr th:only-of-type {\n",
       "        vertical-align: middle;\n",
       "    }\n",
       "\n",
       "    .dataframe tbody tr th {\n",
       "        vertical-align: top;\n",
       "    }\n",
       "\n",
       "    .dataframe thead th {\n",
       "        text-align: right;\n",
       "    }\n",
       "</style>\n",
       "<table border=\"1\" class=\"dataframe\">\n",
       "  <thead>\n",
       "    <tr style=\"text-align: right;\">\n",
       "      <th></th>\n",
       "      <th>date</th>\n",
       "      <th>tweet</th>\n",
       "    </tr>\n",
       "  </thead>\n",
       "  <tbody>\n",
       "    <tr>\n",
       "      <th>0</th>\n",
       "      <td>2011-02-26 23:54:21+00:00</td>\n",
       "      <td>Súmate a los más de 400 mil mexicanos que apoy...</td>\n",
       "    </tr>\n",
       "    <tr>\n",
       "      <th>1</th>\n",
       "      <td>2011-02-19 21:27:07+00:00</td>\n",
       "      <td>He publicado 24 fotos en Facebook en el álbum ...</td>\n",
       "    </tr>\n",
       "    <tr>\n",
       "      <th>2</th>\n",
       "      <td>2011-01-13 02:46:09+00:00</td>\n",
       "      <td>Visita de @HumbertMoreiraV y Cristina Diaz, 17...</td>\n",
       "    </tr>\n",
       "    <tr>\n",
       "      <th>3</th>\n",
       "      <td>2011-01-01 00:55:20+00:00</td>\n",
       "      <td>@jnordhausen igualmente papa! Felicidades abra...</td>\n",
       "    </tr>\n",
       "    <tr>\n",
       "      <th>4</th>\n",
       "      <td>2010-12-31 22:53:44+00:00</td>\n",
       "      <td>@AlinaSalazarG besos! Gracias!</td>\n",
       "    </tr>\n",
       "    <tr>\n",
       "      <th>...</th>\n",
       "      <td>...</td>\n",
       "      <td>...</td>\n",
       "    </tr>\n",
       "    <tr>\n",
       "      <th>450</th>\n",
       "      <td>2010-04-07 05:31:27+00:00</td>\n",
       "      <td>El Dr. Enrique Iván González López se adhiere ...</td>\n",
       "    </tr>\n",
       "    <tr>\n",
       "      <th>451</th>\n",
       "      <td>2010-04-05 21:36:13+00:00</td>\n",
       "      <td>Empeora crisis de seguridad por falta de intel...</td>\n",
       "    </tr>\n",
       "    <tr>\n",
       "      <th>452</th>\n",
       "      <td>2010-04-01 03:11:34+00:00</td>\n",
       "      <td>Se entregaron 11 reconocimientos al mismo núme...</td>\n",
       "    </tr>\n",
       "    <tr>\n",
       "      <th>453</th>\n",
       "      <td>2010-03-30 06:38:28+00:00</td>\n",
       "      <td>http://bit.ly/9BHHQ3</td>\n",
       "    </tr>\n",
       "    <tr>\n",
       "      <th>454</th>\n",
       "      <td>2010-03-30 06:05:20+00:00</td>\n",
       "      <td>Página del PRI en Campeche http://bit.ly/anugdU</td>\n",
       "    </tr>\n",
       "  </tbody>\n",
       "</table>\n",
       "<p>455 rows × 2 columns</p>\n",
       "</div>"
      ],
      "text/plain": [
       "                         date  \\\n",
       "0   2011-02-26 23:54:21+00:00   \n",
       "1   2011-02-19 21:27:07+00:00   \n",
       "2   2011-01-13 02:46:09+00:00   \n",
       "3   2011-01-01 00:55:20+00:00   \n",
       "4   2010-12-31 22:53:44+00:00   \n",
       "..                        ...   \n",
       "450 2010-04-07 05:31:27+00:00   \n",
       "451 2010-04-05 21:36:13+00:00   \n",
       "452 2010-04-01 03:11:34+00:00   \n",
       "453 2010-03-30 06:38:28+00:00   \n",
       "454 2010-03-30 06:05:20+00:00   \n",
       "\n",
       "                                                 tweet  \n",
       "0    Súmate a los más de 400 mil mexicanos que apoy...  \n",
       "1    He publicado 24 fotos en Facebook en el álbum ...  \n",
       "2    Visita de @HumbertMoreiraV y Cristina Diaz, 17...  \n",
       "3    @jnordhausen igualmente papa! Felicidades abra...  \n",
       "4                       @AlinaSalazarG besos! Gracias!  \n",
       "..                                                 ...  \n",
       "450  El Dr. Enrique Iván González López se adhiere ...  \n",
       "451  Empeora crisis de seguridad por falta de intel...  \n",
       "452  Se entregaron 11 reconocimientos al mismo núme...  \n",
       "453                               http://bit.ly/9BHHQ3  \n",
       "454    Página del PRI en Campeche http://bit.ly/anugdU  \n",
       "\n",
       "[455 rows x 2 columns]"
      ]
     },
     "execution_count": 48,
     "metadata": {},
     "output_type": "execute_result"
    }
   ],
   "source": [
    "a"
   ]
  },
  {
   "cell_type": "code",
   "execution_count": null,
   "metadata": {},
   "outputs": [],
   "source": [
    "GustavoMadero"
   ]
  }
 ],
 "metadata": {
  "kernelspec": {
   "display_name": "Python 3",
   "language": "python",
   "name": "python3"
  },
  "language_info": {
   "codemirror_mode": {
    "name": "ipython",
    "version": 3
   },
   "file_extension": ".py",
   "mimetype": "text/x-python",
   "name": "python",
   "nbconvert_exporter": "python",
   "pygments_lexer": "ipython3",
   "version": "3.7.5"
  }
 },
 "nbformat": 4,
 "nbformat_minor": 4
}
