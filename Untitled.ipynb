{
 "cells": [
  {
   "cell_type": "code",
   "execution_count": 29,
   "metadata": {},
   "outputs": [],
   "source": [
    "import os\n",
    "import pandas as pd\n",
    "import joblib\n",
    "import matplotlib.pyplot as plt"
   ]
  },
  {
   "cell_type": "code",
   "execution_count": 35,
   "metadata": {},
   "outputs": [
    {
     "name": "stdout",
     "output_type": "stream",
     "text": [
      "alitomorenoc database ready \n",
      "BeatrizGMuller database ready \n",
      "Claudiashein database ready \n",
      "damianzepeda database ready \n",
      "epigmenioibarra database ready \n",
      "FelipeCalderon database ready \n",
      "GustavoMadero database ready \n",
      "JohnMAckerman database ready \n",
      "JuarezCisneros database ready \n",
      "LariosHector database ready \n",
      "lopezobrador_ database ready \n",
      "lvidegaray database ready \n",
      "MarkoCortes database ready \n",
      "Mzavalagc database ready \n",
      "osoriochong database ready \n",
      "RicardoAnayaC database ready \n"
     ]
    }
   ],
   "source": [
    "database_listdir = os.listdir('database')\n",
    "\n",
    "def makeDataFrame(account):\n",
    "    files = os.listdir(f'database/{account}')\n",
    "    if len(files) == 0:\n",
    "        return\n",
    "    to_concat = []\n",
    "    for file in files:\n",
    "        to_concat.append(joblib.load(f'database/{account}/{file}'))\n",
    "    full_database = pd.concat(to_concat).drop_duplicates(subset =\"date\").sort_values(by=['date']).reset_index(drop = True)\n",
    "    joblib.dump(full_database,f'database/{account}/full_{account}.pkl')\n",
    "\n",
    "def concatAllData(database_listdir):\n",
    "    for account in database_listdir:\n",
    "        makeDataFrame(account)\n",
    "        print(f'{account} database ready ')\n",
    "\n",
    "concatAllData(database_listdir)"
   ]
  },
  {
   "cell_type": "code",
   "execution_count": 36,
   "metadata": {},
   "outputs": [],
   "source": [
    "PRI = {'alitomorenoc': joblib.load(f'database/alitomorenoc/full_alitomorenoc.pkl'),\n",
    "       'osoriochong' : joblib.load(f'database/osoriochong/full_osoriochong.pkl'),\n",
    "       'JuarezCisneros': joblib.load(f'database/JuarezCisneros/full_JuarezCisneros.pkl')}"
   ]
  },
  {
   "cell_type": "code",
   "execution_count": 37,
   "metadata": {},
   "outputs": [],
   "source": [
    "PAN = {'FelipeCalderon': joblib.load(f'database/FelipeCalderon/full_FelipeCalderon.pkl'),\n",
    "       'RicardoAnayaC': joblib.load(f'database/RicardoAnayaC/full_RicardoAnayaC.pkl'),\n",
    "       'MarkoCortes': joblib.load(f'database/MarkoCortes/full_MarkoCortes.pkl'),\n",
    "       'LariosHector': joblib.load(f'database/LariosHector/full_LariosHector.pkl'),\n",
    "       'Mzavalagc': joblib.load(f'database/Mzavalagc/full_Mzavalagc.pkl'),\n",
    "       'damianzepeda': joblib.load(f'database/damianzepeda/full_damianzepeda.pkl'),\n",
    "       'GustavoMadero': joblib.load(f'database/GustavoMadero/full_GustavoMadero.pkl')}"
   ]
  },
  {
   "cell_type": "code",
   "execution_count": 38,
   "metadata": {},
   "outputs": [],
   "source": [
    "MORENA = {'JohnMAckerman': joblib.load(f'database/JohnMAckerman/full_JohnMAckerman.pkl'),\n",
    "          'epigmenioibarra': joblib.load(f'database/epigmenioibarra/full_epigmenioibarra.pkl'),\n",
    "            'BeatrizGMuller': joblib.load(f'database/BeatrizGMuller/full_BeatrizGMuller.pkl'),\n",
    "          'Claudiashein': joblib.load(f'database/Claudiashein/full_Claudiashein.pkl'),\n",
    "          'lopezobrador_': joblib.load(f'database/lopezobrador_/full_lopezobrador_.pkl')}"
   ]
  },
  {
   "cell_type": "code",
   "execution_count": 39,
   "metadata": {},
   "outputs": [
    {
     "data": {
      "text/plain": [
       "46447"
      ]
     },
     "execution_count": 39,
     "metadata": {},
     "output_type": "execute_result"
    }
   ],
   "source": [
    "pri_len = sum([len(PRI[x]) for x in PRI.keys()])\n",
    "pri_len"
   ]
  },
  {
   "cell_type": "code",
   "execution_count": 40,
   "metadata": {},
   "outputs": [
    {
     "data": {
      "text/plain": [
       "50990"
      ]
     },
     "execution_count": 40,
     "metadata": {},
     "output_type": "execute_result"
    }
   ],
   "source": [
    "pan_len = sum([len(PAN[x]) for x in PAN.keys()])\n",
    "pan_len"
   ]
  },
  {
   "cell_type": "code",
   "execution_count": 41,
   "metadata": {},
   "outputs": [
    {
     "data": {
      "text/plain": [
       "162092"
      ]
     },
     "execution_count": 41,
     "metadata": {},
     "output_type": "execute_result"
    }
   ],
   "source": [
    "morena_len = sum([len(MORENA[x]) for x in MORENA.keys()])\n",
    "morena_len"
   ]
  },
  {
   "cell_type": "code",
   "execution_count": 42,
   "metadata": {},
   "outputs": [],
   "source": [
    "def printPartyLen(dictionaries):\n",
    "    for dictionary in dictionaries:\n",
    "        print('###################\\r\\r')\n",
    "        for account in dictionary.keys():\n",
    "            print(account, len(dictionary[account]), ' Tweets')"
   ]
  },
  {
   "cell_type": "code",
   "execution_count": 43,
   "metadata": {},
   "outputs": [
    {
     "name": "stdout",
     "output_type": "stream",
     "text": [
      "###################\r",
      "\r\n",
      "alitomorenoc 15325  Tweets\n",
      "osoriochong 7151  Tweets\n",
      "JuarezCisneros 23971  Tweets\n",
      "###################\r",
      "\r\n",
      "FelipeCalderon 8963  Tweets\n",
      "RicardoAnayaC 3824  Tweets\n",
      "MarkoCortes 6775  Tweets\n",
      "LariosHector 5231  Tweets\n",
      "Mzavalagc 5779  Tweets\n",
      "damianzepeda 12585  Tweets\n",
      "GustavoMadero 7833  Tweets\n",
      "###################\r",
      "\r\n",
      "JohnMAckerman 35131  Tweets\n",
      "epigmenioibarra 109288  Tweets\n",
      "BeatrizGMuller 1291  Tweets\n",
      "Claudiashein 11375  Tweets\n",
      "lopezobrador_ 5007  Tweets\n"
     ]
    }
   ],
   "source": [
    "printPartyLen([PRI,PAN,MORENA])"
   ]
  },
  {
   "cell_type": "code",
   "execution_count": null,
   "metadata": {},
   "outputs": [],
   "source": [
    "PAN['Mzavalagc'].tweet[101]"
   ]
  },
  {
   "cell_type": "code",
   "execution_count": null,
   "metadata": {},
   "outputs": [],
   "source": [
    "for ind, tweet in enumerate(PAN['Mzavalagc'].tweet):\n",
    "    if len(tweet) > 280:\n",
    "        print(ind)\n",
    "\n",
    "# mar_lens = [len(tweet) for tweet in PAN['Mzavalagc'].tweet]\n",
    "# mar_lens"
   ]
  },
  {
   "cell_type": "code",
   "execution_count": null,
   "metadata": {},
   "outputs": [],
   "source": [
    "o = PAN['Mzavalagc'].tweet[4008]"
   ]
  },
  {
   "cell_type": "code",
   "execution_count": null,
   "metadata": {},
   "outputs": [],
   "source": [
    "o.split(' ')"
   ]
  },
  {
   "cell_type": "code",
   "execution_count": null,
   "metadata": {},
   "outputs": [],
   "source": [
    "p = joblib.load(r'C:\\Users\\jupol\\Documents\\GitHub\\GetTweetsModule\\database\\JohnMAckerman\\JohnMAckerman_2011-10-01.pkl')"
   ]
  },
  {
   "cell_type": "code",
   "execution_count": null,
   "metadata": {},
   "outputs": [],
   "source": [
    "p.tweet[\n",
    "    1070\n",
    "]"
   ]
  },
  {
   "cell_type": "code",
   "execution_count": 33,
   "metadata": {},
   "outputs": [],
   "source": [
    "test = joblib.load(r'G:\\python\\Demis\\LegacyDemi\\demis\\FinalDemi\\input\\accounts\\tatclouthier_tweets.pkl')"
   ]
  },
  {
   "cell_type": "code",
   "execution_count": 34,
   "metadata": {},
   "outputs": [
    {
     "data": {
      "text/html": [
       "<div>\n",
       "<style scoped>\n",
       "    .dataframe tbody tr th:only-of-type {\n",
       "        vertical-align: middle;\n",
       "    }\n",
       "\n",
       "    .dataframe tbody tr th {\n",
       "        vertical-align: top;\n",
       "    }\n",
       "\n",
       "    .dataframe thead th {\n",
       "        text-align: right;\n",
       "    }\n",
       "</style>\n",
       "<table border=\"1\" class=\"dataframe\">\n",
       "  <thead>\n",
       "    <tr style=\"text-align: right;\">\n",
       "      <th></th>\n",
       "      <th>account</th>\n",
       "      <th>text</th>\n",
       "    </tr>\n",
       "    <tr>\n",
       "      <th>date</th>\n",
       "      <th></th>\n",
       "      <th></th>\n",
       "    </tr>\n",
       "  </thead>\n",
       "  <tbody>\n",
       "    <tr>\n",
       "      <th>2009-04-22 03:13:55</th>\n",
       "      <td>tatclouthier</td>\n",
       "      <td>Que dia tan rendidor</td>\n",
       "    </tr>\n",
       "    <tr>\n",
       "      <th>2009-04-29 22:29:42</th>\n",
       "      <td>tatclouthier</td>\n",
       "      <td>¿Cuánto es el presupuesto destinado a salud pú...</td>\n",
       "    </tr>\n",
       "    <tr>\n",
       "      <th>2009-04-30 23:10:22</th>\n",
       "      <td>tatclouthier</td>\n",
       "      <td>sin participacion responsable nada fructifica.</td>\n",
       "    </tr>\n",
       "    <tr>\n",
       "      <th>2009-05-13 03:06:09</th>\n",
       "      <td>tatclouthier</td>\n",
       "      <td>Vamos hoy por algo que sume no? abrazos</td>\n",
       "    </tr>\n",
       "    <tr>\n",
       "      <th>2009-05-13 22:17:24</th>\n",
       "      <td>tatclouthier</td>\n",
       "      <td>Ayer se rompió un silencio y todo un paradigma...</td>\n",
       "    </tr>\n",
       "    <tr>\n",
       "      <th>...</th>\n",
       "      <td>...</td>\n",
       "      <td>...</td>\n",
       "    </tr>\n",
       "    <tr>\n",
       "      <th>2019-08-06 02:54:36</th>\n",
       "      <td>tatclouthier</td>\n",
       "      <td>@juanrleone @America8384 @julenrementeria Ni u...</td>\n",
       "    </tr>\n",
       "    <tr>\n",
       "      <th>2019-08-06 02:58:24</th>\n",
       "      <td>tatclouthier</td>\n",
       "      <td>@ciinavarro Proyecciones....te consideras insi...</td>\n",
       "    </tr>\n",
       "    <tr>\n",
       "      <th>2019-08-06 02:59:57</th>\n",
       "      <td>tatclouthier</td>\n",
       "      <td>@ChayraIrma1 Diputada</td>\n",
       "    </tr>\n",
       "    <tr>\n",
       "      <th>2019-08-06 03:00:23</th>\n",
       "      <td>tatclouthier</td>\n",
       "      <td>@ArturoNavarroN @ChayraIrma1 Simpático</td>\n",
       "    </tr>\n",
       "    <tr>\n",
       "      <th>2019-08-06 03:01:38</th>\n",
       "      <td>tatclouthier</td>\n",
       "      <td>@AldoAV4 :)</td>\n",
       "    </tr>\n",
       "  </tbody>\n",
       "</table>\n",
       "<p>38378 rows × 2 columns</p>\n",
       "</div>"
      ],
      "text/plain": [
       "                          account  \\\n",
       "date                                \n",
       "2009-04-22 03:13:55  tatclouthier   \n",
       "2009-04-29 22:29:42  tatclouthier   \n",
       "2009-04-30 23:10:22  tatclouthier   \n",
       "2009-05-13 03:06:09  tatclouthier   \n",
       "2009-05-13 22:17:24  tatclouthier   \n",
       "...                           ...   \n",
       "2019-08-06 02:54:36  tatclouthier   \n",
       "2019-08-06 02:58:24  tatclouthier   \n",
       "2019-08-06 02:59:57  tatclouthier   \n",
       "2019-08-06 03:00:23  tatclouthier   \n",
       "2019-08-06 03:01:38  tatclouthier   \n",
       "\n",
       "                                                                  text  \n",
       "date                                                                    \n",
       "2009-04-22 03:13:55                               Que dia tan rendidor  \n",
       "2009-04-29 22:29:42  ¿Cuánto es el presupuesto destinado a salud pú...  \n",
       "2009-04-30 23:10:22     sin participacion responsable nada fructifica.  \n",
       "2009-05-13 03:06:09            Vamos hoy por algo que sume no? abrazos  \n",
       "2009-05-13 22:17:24  Ayer se rompió un silencio y todo un paradigma...  \n",
       "...                                                                ...  \n",
       "2019-08-06 02:54:36  @juanrleone @America8384 @julenrementeria Ni u...  \n",
       "2019-08-06 02:58:24  @ciinavarro Proyecciones....te consideras insi...  \n",
       "2019-08-06 02:59:57                              @ChayraIrma1 Diputada  \n",
       "2019-08-06 03:00:23             @ArturoNavarroN @ChayraIrma1 Simpático  \n",
       "2019-08-06 03:01:38                                        @AldoAV4 :)  \n",
       "\n",
       "[38378 rows x 2 columns]"
      ]
     },
     "execution_count": 34,
     "metadata": {},
     "output_type": "execute_result"
    }
   ],
   "source": [
    "test"
   ]
  },
  {
   "cell_type": "code",
   "execution_count": 24,
   "metadata": {},
   "outputs": [
    {
     "data": {
      "text/html": [
       "<div>\n",
       "<style scoped>\n",
       "    .dataframe tbody tr th:only-of-type {\n",
       "        vertical-align: middle;\n",
       "    }\n",
       "\n",
       "    .dataframe tbody tr th {\n",
       "        vertical-align: top;\n",
       "    }\n",
       "\n",
       "    .dataframe thead th {\n",
       "        text-align: right;\n",
       "    }\n",
       "</style>\n",
       "<table border=\"1\" class=\"dataframe\">\n",
       "  <thead>\n",
       "    <tr style=\"text-align: right;\">\n",
       "      <th></th>\n",
       "      <th>date</th>\n",
       "      <th>tweet</th>\n",
       "    </tr>\n",
       "  </thead>\n",
       "  <tbody>\n",
       "    <tr>\n",
       "      <th>0</th>\n",
       "      <td>2010-08-25 15:00:40+00:00</td>\n",
       "      <td>Buen día a todos, ya estoy utilizando las rede...</td>\n",
       "    </tr>\n",
       "    <tr>\n",
       "      <th>1</th>\n",
       "      <td>2010-08-25 21:43:59+00:00</td>\n",
       "      <td>Agradezco sus comentarios de bienvenida, les a...</td>\n",
       "    </tr>\n",
       "    <tr>\n",
       "      <th>2</th>\n",
       "      <td>2010-08-25 22:52:03+00:00</td>\n",
       "      <td>Hoy visité Teyahuala, municipio de Tepehuacán ...</td>\n",
       "    </tr>\n",
       "    <tr>\n",
       "      <th>3</th>\n",
       "      <td>2010-08-25 23:08:00+00:00</td>\n",
       "      <td>La foto de Teyahuala http://twitpic.com/2i5l7p</td>\n",
       "    </tr>\n",
       "    <tr>\n",
       "      <th>4</th>\n",
       "      <td>2010-08-26 19:22:33+00:00</td>\n",
       "      <td>http://tweetphoto.com/41521136 Estoy en la uni...</td>\n",
       "    </tr>\n",
       "    <tr>\n",
       "      <th>...</th>\n",
       "      <td>...</td>\n",
       "      <td>...</td>\n",
       "    </tr>\n",
       "    <tr>\n",
       "      <th>7146</th>\n",
       "      <td>2020-09-04 19:39:13+00:00</td>\n",
       "      <td>De acuerdo a estimaciones de la Universidad de...</td>\n",
       "    </tr>\n",
       "    <tr>\n",
       "      <th>7147</th>\n",
       "      <td>2020-09-05 14:41:05+00:00</td>\n",
       "      <td>Reconocemos todos sus aportes, les valoramos y...</td>\n",
       "    </tr>\n",
       "    <tr>\n",
       "      <th>7148</th>\n",
       "      <td>2020-09-05 19:59:34+00:00</td>\n",
       "      <td>Seguiremos impulsando que se apruebe por el Pl...</td>\n",
       "    </tr>\n",
       "    <tr>\n",
       "      <th>7149</th>\n",
       "      <td>2020-09-06 18:45:18+00:00</td>\n",
       "      <td>Hoy cumple 6 años el portal de @lopezdoriga; m...</td>\n",
       "    </tr>\n",
       "    <tr>\n",
       "      <th>7150</th>\n",
       "      <td>2020-09-08 17:53:16+00:00</td>\n",
       "      <td>Encuentro del bloque @SenadoresdelPAN, @Senado...</td>\n",
       "    </tr>\n",
       "  </tbody>\n",
       "</table>\n",
       "<p>7151 rows × 2 columns</p>\n",
       "</div>"
      ],
      "text/plain": [
       "                          date  \\\n",
       "0    2010-08-25 15:00:40+00:00   \n",
       "1    2010-08-25 21:43:59+00:00   \n",
       "2    2010-08-25 22:52:03+00:00   \n",
       "3    2010-08-25 23:08:00+00:00   \n",
       "4    2010-08-26 19:22:33+00:00   \n",
       "...                        ...   \n",
       "7146 2020-09-04 19:39:13+00:00   \n",
       "7147 2020-09-05 14:41:05+00:00   \n",
       "7148 2020-09-05 19:59:34+00:00   \n",
       "7149 2020-09-06 18:45:18+00:00   \n",
       "7150 2020-09-08 17:53:16+00:00   \n",
       "\n",
       "                                                  tweet  \n",
       "0     Buen día a todos, ya estoy utilizando las rede...  \n",
       "1     Agradezco sus comentarios de bienvenida, les a...  \n",
       "2     Hoy visité Teyahuala, municipio de Tepehuacán ...  \n",
       "3        La foto de Teyahuala http://twitpic.com/2i5l7p  \n",
       "4     http://tweetphoto.com/41521136 Estoy en la uni...  \n",
       "...                                                 ...  \n",
       "7146  De acuerdo a estimaciones de la Universidad de...  \n",
       "7147  Reconocemos todos sus aportes, les valoramos y...  \n",
       "7148  Seguiremos impulsando que se apruebe por el Pl...  \n",
       "7149  Hoy cumple 6 años el portal de @lopezdoriga; m...  \n",
       "7150  Encuentro del bloque @SenadoresdelPAN, @Senado...  \n",
       "\n",
       "[7151 rows x 2 columns]"
      ]
     },
     "execution_count": 24,
     "metadata": {},
     "output_type": "execute_result"
    }
   ],
   "source": [
    "PRI['osoriochong']"
   ]
  },
  {
   "cell_type": "code",
   "execution_count": null,
   "metadata": {},
   "outputs": [],
   "source": []
  }
 ],
 "metadata": {
  "kernelspec": {
   "display_name": "Python 3",
   "language": "python",
   "name": "python3"
  },
  "language_info": {
   "codemirror_mode": {
    "name": "ipython",
    "version": 3
   },
   "file_extension": ".py",
   "mimetype": "text/x-python",
   "name": "python",
   "nbconvert_exporter": "python",
   "pygments_lexer": "ipython3",
   "version": "3.7.5"
  }
 },
 "nbformat": 4,
 "nbformat_minor": 4
}
