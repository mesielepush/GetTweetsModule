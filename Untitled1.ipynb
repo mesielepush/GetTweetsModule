{
 "cells": [
  {
   "cell_type": "code",
   "execution_count": 1,
   "metadata": {},
   "outputs": [],
   "source": [
    "import os\n",
    "import datetime\n",
    "import joblib\n",
    "import pandas as pd\n",
    "import GetOldTweets3 as got\n",
    "import time"
   ]
  },
  {
   "cell_type": "code",
   "execution_count": 82,
   "metadata": {},
   "outputs": [],
   "source": [
    "def getTuits(user, since, until):\n",
    "    \n",
    "    if not os.path.exists(f'database/{user}'):\n",
    "        os.makedirs(f'database/{user}')\n",
    "    \n",
    "    tweetCriteria = got.manager.TweetCriteria().setUsername(user)\\\n",
    "                                       .setSince(since)\\\n",
    "                                       .setUntil(until)\n",
    "    tweets = got.manager.TweetManager.getTweets(tweetCriteria)\n",
    "\n",
    "    user_tweets = [[tweet.date, tweet.text] for tweet in tweets]\n",
    "    tweets_df = pd.DataFrame(user_tweets)\n",
    "    tweets_df.columns = ['date', 'tweet']\n",
    "    \n",
    "    joblib.dump(tweets_df,f'database/{user}/{user}_{until}.pkl')"
   ]
  },
  {
   "cell_type": "code",
   "execution_count": 92,
   "metadata": {},
   "outputs": [
    {
     "name": "stdout",
     "output_type": "stream",
     "text": [
      "Runtime of the program is 6.792948766549428\n"
     ]
    }
   ],
   "source": [
    "start = time.time()\n",
    "\n",
    "getTuits('epigmenioibarra', \"2020-06-01\", \"2020-09-01\")\n",
    "\n",
    "end = time.time()\n",
    "print(f\"Runtime of the program is {(end - start)/60}\")"
   ]
  },
  {
   "cell_type": "code",
   "execution_count": 19,
   "metadata": {},
   "outputs": [],
   "source": [
    "a = joblib.load(r'C:\\Users\\jupol\\Documents\\GitHub\\GetTweetsModule\\database\\JohnMAckerman/JohnMAckerman_2012-10-01.pkl')"
   ]
  },
  {
   "cell_type": "code",
   "execution_count": 20,
   "metadata": {},
   "outputs": [
    {
     "data": {
      "text/plain": [
       "6315"
      ]
     },
     "execution_count": 20,
     "metadata": {},
     "output_type": "execute_result"
    }
   ],
   "source": [
    "juarez = [a]\n",
    "sum([len(x) for x in juarez] )"
   ]
  },
  {
   "cell_type": "code",
   "execution_count": 10,
   "metadata": {},
   "outputs": [
    {
     "data": {
      "text/plain": [
       "datetime.datetime(2020, 9, 9, 21, 9, 46, 23532)"
      ]
     },
     "execution_count": 10,
     "metadata": {},
     "output_type": "execute_result"
    }
   ],
   "source": [
    "datetime.fromtimestamp(1599703786.023532)"
   ]
  },
  {
   "cell_type": "code",
   "execution_count": 48,
   "metadata": {},
   "outputs": [
    {
     "data": {
      "text/html": [
       "<div>\n",
       "<style scoped>\n",
       "    .dataframe tbody tr th:only-of-type {\n",
       "        vertical-align: middle;\n",
       "    }\n",
       "\n",
       "    .dataframe tbody tr th {\n",
       "        vertical-align: top;\n",
       "    }\n",
       "\n",
       "    .dataframe thead th {\n",
       "        text-align: right;\n",
       "    }\n",
       "</style>\n",
       "<table border=\"1\" class=\"dataframe\">\n",
       "  <thead>\n",
       "    <tr style=\"text-align: right;\">\n",
       "      <th></th>\n",
       "      <th>date</th>\n",
       "      <th>tweet</th>\n",
       "    </tr>\n",
       "  </thead>\n",
       "  <tbody>\n",
       "    <tr>\n",
       "      <th>0</th>\n",
       "      <td>2011-02-26 23:54:21+00:00</td>\n",
       "      <td>Súmate a los más de 400 mil mexicanos que apoy...</td>\n",
       "    </tr>\n",
       "    <tr>\n",
       "      <th>1</th>\n",
       "      <td>2011-02-19 21:27:07+00:00</td>\n",
       "      <td>He publicado 24 fotos en Facebook en el álbum ...</td>\n",
       "    </tr>\n",
       "    <tr>\n",
       "      <th>2</th>\n",
       "      <td>2011-01-13 02:46:09+00:00</td>\n",
       "      <td>Visita de @HumbertMoreiraV y Cristina Diaz, 17...</td>\n",
       "    </tr>\n",
       "    <tr>\n",
       "      <th>3</th>\n",
       "      <td>2011-01-01 00:55:20+00:00</td>\n",
       "      <td>@jnordhausen igualmente papa! Felicidades abra...</td>\n",
       "    </tr>\n",
       "    <tr>\n",
       "      <th>4</th>\n",
       "      <td>2010-12-31 22:53:44+00:00</td>\n",
       "      <td>@AlinaSalazarG besos! Gracias!</td>\n",
       "    </tr>\n",
       "    <tr>\n",
       "      <th>...</th>\n",
       "      <td>...</td>\n",
       "      <td>...</td>\n",
       "    </tr>\n",
       "    <tr>\n",
       "      <th>450</th>\n",
       "      <td>2010-04-07 05:31:27+00:00</td>\n",
       "      <td>El Dr. Enrique Iván González López se adhiere ...</td>\n",
       "    </tr>\n",
       "    <tr>\n",
       "      <th>451</th>\n",
       "      <td>2010-04-05 21:36:13+00:00</td>\n",
       "      <td>Empeora crisis de seguridad por falta de intel...</td>\n",
       "    </tr>\n",
       "    <tr>\n",
       "      <th>452</th>\n",
       "      <td>2010-04-01 03:11:34+00:00</td>\n",
       "      <td>Se entregaron 11 reconocimientos al mismo núme...</td>\n",
       "    </tr>\n",
       "    <tr>\n",
       "      <th>453</th>\n",
       "      <td>2010-03-30 06:38:28+00:00</td>\n",
       "      <td>http://bit.ly/9BHHQ3</td>\n",
       "    </tr>\n",
       "    <tr>\n",
       "      <th>454</th>\n",
       "      <td>2010-03-30 06:05:20+00:00</td>\n",
       "      <td>Página del PRI en Campeche http://bit.ly/anugdU</td>\n",
       "    </tr>\n",
       "  </tbody>\n",
       "</table>\n",
       "<p>455 rows × 2 columns</p>\n",
       "</div>"
      ],
      "text/plain": [
       "                         date  \\\n",
       "0   2011-02-26 23:54:21+00:00   \n",
       "1   2011-02-19 21:27:07+00:00   \n",
       "2   2011-01-13 02:46:09+00:00   \n",
       "3   2011-01-01 00:55:20+00:00   \n",
       "4   2010-12-31 22:53:44+00:00   \n",
       "..                        ...   \n",
       "450 2010-04-07 05:31:27+00:00   \n",
       "451 2010-04-05 21:36:13+00:00   \n",
       "452 2010-04-01 03:11:34+00:00   \n",
       "453 2010-03-30 06:38:28+00:00   \n",
       "454 2010-03-30 06:05:20+00:00   \n",
       "\n",
       "                                                 tweet  \n",
       "0    Súmate a los más de 400 mil mexicanos que apoy...  \n",
       "1    He publicado 24 fotos en Facebook en el álbum ...  \n",
       "2    Visita de @HumbertMoreiraV y Cristina Diaz, 17...  \n",
       "3    @jnordhausen igualmente papa! Felicidades abra...  \n",
       "4                       @AlinaSalazarG besos! Gracias!  \n",
       "..                                                 ...  \n",
       "450  El Dr. Enrique Iván González López se adhiere ...  \n",
       "451  Empeora crisis de seguridad por falta de intel...  \n",
       "452  Se entregaron 11 reconocimientos al mismo núme...  \n",
       "453                               http://bit.ly/9BHHQ3  \n",
       "454    Página del PRI en Campeche http://bit.ly/anugdU  \n",
       "\n",
       "[455 rows x 2 columns]"
      ]
     },
     "execution_count": 48,
     "metadata": {},
     "output_type": "execute_result"
    }
   ],
   "source": [
    "a"
   ]
  },
  {
   "cell_type": "code",
   "execution_count": null,
   "metadata": {},
   "outputs": [],
   "source": [
    "GustavoMadero"
   ]
  }
 ],
 "metadata": {
  "kernelspec": {
   "display_name": "Python 3",
   "language": "python",
   "name": "python3"
  },
  "language_info": {
   "codemirror_mode": {
    "name": "ipython",
    "version": 3
   },
   "file_extension": ".py",
   "mimetype": "text/x-python",
   "name": "python",
   "nbconvert_exporter": "python",
   "pygments_lexer": "ipython3",
   "version": "3.7.5"
  }
 },
 "nbformat": 4,
 "nbformat_minor": 4
}
